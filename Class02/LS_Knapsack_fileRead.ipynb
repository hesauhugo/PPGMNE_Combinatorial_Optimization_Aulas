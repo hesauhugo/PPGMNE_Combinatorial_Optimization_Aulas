{
  "nbformat": 4,
  "nbformat_minor": 0,
  "metadata": {
    "colab": {
      "name": "LS_Knapsack_fileRead.ipynb",
      "provenance": [],
      "collapsed_sections": []
    },
    "kernelspec": {
      "name": "python3",
      "display_name": "Python 3"
    },
    "language_info": {
      "name": "python"
    }
  },
  "cells": [
    {
      "cell_type": "code",
      "metadata": {
        "id": "UQYUvcGTzNp2"
      },
      "source": [
        "import numpy as np\n",
        "import matplotlib.pyplot as plt\n",
        "from time import process_time"
      ],
      "execution_count": 72,
      "outputs": []
    },
    {
      "cell_type": "code",
      "metadata": {
        "id": "RJpOvF1el0--"
      },
      "source": [
        "with open('Knap_C150I200.dat') as f:\n",
        "    row = [int(x) for x in next(f).split()] # read first line\n",
        "    empty = [int(x) for x in next(f).split()] # read next line\n",
        "    col = [int(x) for x in next(f).split()] # read next line\n",
        "    empty = [int(x) for x in next(f).split()] # read next line\n",
        "    empty = [int(x) for x in next(f).split()] # read next line\n",
        "\n",
        "    Utility = []\n",
        "    Utility.append([float(x) for x in next(f).split()])\n",
        "\n",
        "    Utility =Utility[0]\n",
        "\n",
        "    empty = [int(x) for x in next(f).split()] # read next line\n",
        "\n",
        "    A = []\n",
        "    count = 0\n",
        "    while count < row[0]: # read rest of lines\n",
        "        A.append([float(x) for x in next(f).split()])\n",
        "        count = count + 1\n",
        "    \n",
        "    empty = [int(x) for x in next(f).split()] # read next line\n",
        "\n",
        "    RHS = []\n",
        "    RHS.append([float(x) for x in next(f).split()])\n",
        "    RHS =RHS[0]\n",
        "\n",
        "RHS = np.array(RHS)\n",
        "A = np.array(A)\n",
        "Utility = np.array(Utility)\n",
        "\n",
        "row, col = A.shape\n",
        "\n",
        "#print(A)\n",
        "#print(Utility)\n",
        "#print(RHS)"
      ],
      "execution_count": 76,
      "outputs": []
    },
    {
      "cell_type": "code",
      "metadata": {
        "id": "XH43z3tHvvfD"
      },
      "source": [
        "# Define a Objective function\n",
        "def of(c,x):\n",
        "  return sum(c*x)\n",
        "\n",
        "def feasibility(a,b,x):\n",
        "  Feasible = True\n",
        "  for i in range(row):\n",
        "    if sum(a[i]*x) > b[i]:\n",
        "      Feasible = False\n",
        "  return Feasible\n",
        "\n",
        "\n",
        "def neigh_changeOne(x):\n",
        "  print(\"input: \\t\", x)\n",
        "  xx = x.copy() #copy the solution to preserve the original\n",
        "  bestX = x.copy()\n",
        "  bestOF = of(bestX,Utility)\n",
        "\n",
        "  for i in range(col):\n",
        "    xx[i] = (1-xx[i])\n",
        "    if printAll: print(\"ChangeOne(\",i, \"): \", xx, \"\\tOF: \", of(xx,Utility), \"\\tFeasible: \", feasibility(A,RHS,xx))\n",
        "    if feasibility(A,RHS,xx):\n",
        "      Obj = of(xx,Utility)\n",
        "      if(Obj > bestOF):\n",
        "        bestX = xx.copy()\n",
        "        bestOF = Obj\n",
        "        print(\"*ChangeOne(\",i, \"):\", xx, \"\\tOF: \", of(xx,Utility), \"\\tFeasible: \", feasibility(A,RHS,xx))\n",
        "    xx[i] = (1-xx[i])\n",
        "\n",
        "  return bestX, bestOF"
      ],
      "execution_count": 77,
      "outputs": []
    },
    {
      "cell_type": "code",
      "metadata": {
        "id": "uv-5nNxYv2Ma"
      },
      "source": [
        "X0 = np.zeros(col)\n",
        "\n",
        "bestX = X0.copy()\n",
        "bestOF_ant = 0 \n",
        "\n",
        "printAll = False\n",
        "\n",
        "history = [0]\n",
        "\n",
        "improvement = True\n",
        "\n",
        "t1_start = process_time() \n",
        "\n",
        "while improvement:\n",
        "  bestX, bestOF = neigh_changeOne(bestX)\n",
        "  if bestOF > bestOF_ant:\n",
        "    bestOF_ant = bestOF\n",
        "    history.append(bestOF)\n",
        "  else: \n",
        "    improvement = False\n",
        "\n",
        "# Stop the stopwatch / counter\n",
        "t1_stop = process_time()\n",
        "      \n",
        "print(\"Elapsed time during the whole program in seconds:\",\n",
        "                                         t1_stop-t1_start) \n",
        "\n",
        "plt.plot(history, \"-o\")\n",
        "plt.ylabel('Objetive Function')\n",
        "plt.xlabel('# Round')"
      ],
      "execution_count": null,
      "outputs": []
    }
  ]
}