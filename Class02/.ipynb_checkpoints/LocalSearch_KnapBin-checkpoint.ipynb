{
 "cells": [
  {
   "cell_type": "code",
   "execution_count": 258,
   "metadata": {
    "id": "p77bXbNpfOuC"
   },
   "outputs": [],
   "source": [
    "import numpy as np\n",
    "import matplotlib.pyplot as plt\n",
    "from time import process_time\n"
   ]
  },
  {
   "cell_type": "code",
   "execution_count": 271,
   "metadata": {
    "colab": {
     "base_uri": "https://localhost:8080/"
    },
    "id": "8-kIM_ISfVDY",
    "outputId": "fc251467-40d3-4150-8a35-d32c45c0e9b9"
   },
   "outputs": [
    {
     "name": "stdout",
     "output_type": "stream",
     "text": [
      "4\n",
      "8\n",
      "[[0 1 2 3 1 2 3 4]\n",
      " [1 0 1 2 2 1 2 3]\n",
      " [2 1 0 1 3 2 1 2]\n",
      " [3 2 1 0 4 3 2 1]]\n"
     ]
    }
   ],
   "source": [
    "#A = np.array([[0,1,2,3,1,2,3,4],\n",
    "#              [1,0,1,2,2,1,2,3],\n",
    "#             [2,1,0,1,3,2,1,2],\n",
    "#              [3,2,1,0,4,3,2,1],\n",
    "#              [1,2,3,4,0,1,2,3],\n",
    "#              [2,1,2,3,1,0,1,2],\n",
    "#              [3,2,1,2,2,1,0,1],\n",
    "#              [4,3,2,1,3,2,1,0]])\n",
    "#RHS  = np.array([10,15,6,11,7,12,23,10])\n",
    "\n",
    "A = np.array([[0,1,2,3,1,2,3,4],\n",
    "              [1,0,1,2,2,1,2,3],\n",
    "              [2,1,0,1,3,2,1,2],\n",
    "              [3,2,1,0,4,3,2,1]])\n",
    "\n",
    "RHS  = np.array([10,15,6,8])\n",
    "\n",
    "\n",
    "row, col = A.shape\n",
    "\n",
    "Utility  = np.array([1,5,2,4,1,3,4,3])\n",
    "\n",
    "print(row)\n",
    "print(col)\n",
    "\n",
    "print(A)"
   ]
  },
  {
   "cell_type": "code",
   "execution_count": 267,
   "metadata": {
    "id": "emFvxPphf1zY"
   },
   "outputs": [],
   "source": [
    "# Define a Objective function\n",
    "def of(c,x):\n",
    "  return sum(c*x)\n",
    "\n",
    "def feasibility(a,b,x):\n",
    "  Feasible = True\n",
    "  for i in range(row):\n",
    "    if sum(a[i]*x) > b[i]:\n",
    "      Feasible = False\n",
    "  return Feasible\n",
    "\n",
    "\n",
    "def neigh_changeOne(x):\n",
    "  print(\"input: \\t\", x)\n",
    "  xx = x.copy() #copy the solution to preserve the original\n",
    "  bestX = x.copy()\n",
    "  bestOF = of(bestX,Utility)\n",
    "\n",
    "  for i in range(col):\n",
    "    xx[i] = (1-xx[i])\n",
    "    if printAll: print(\"ChangeOne(\",i, \"): \", xx, \"\\tOF: \", of(xx,Utility), \"\\tFeasible: \", feasibility(A,RHS,xx))\n",
    "    if feasibility(A,RHS,xx):\n",
    "      Obj = of(xx,Utility)\n",
    "      if(Obj > bestOF):\n",
    "        bestX = xx.copy()\n",
    "        bestOF = Obj\n",
    "        print(\"*ChangeOne(\",i, \"):\", xx, \"\\tOF: \", of(xx,Utility), \"\\tFeasible: \", feasibility(A,RHS,xx))\n",
    "    xx[i] = (1-xx[i])\n",
    "\n",
    "  return bestX, bestOF\n"
   ]
  },
  {
   "cell_type": "code",
   "execution_count": 270,
   "metadata": {
    "colab": {
     "base_uri": "https://localhost:8080/",
     "height": 602
    },
    "id": "gapyvIWhhE2m",
    "outputId": "aa425c35-7417-444b-9465-65e32c8ec7c7"
   },
   "outputs": [
    {
     "name": "stdout",
     "output_type": "stream",
     "text": [
      "input: \t [0 0 0 0 0 0 0 0]\n",
      "*ChangeOne( 0 ): [1 0 0 0 0 0 0 0] \tOF:  1 \tFeasible:  True\n",
      "*ChangeOne( 1 ): [0 1 0 0 0 0 0 0] \tOF:  5 \tFeasible:  True\n",
      "input: \t [0 1 0 0 0 0 0 0]\n",
      "*ChangeOne( 0 ): [1 1 0 0 0 0 0 0] \tOF:  6 \tFeasible:  True\n",
      "*ChangeOne( 2 ): [0 1 1 0 0 0 0 0] \tOF:  7 \tFeasible:  True\n",
      "*ChangeOne( 3 ): [0 1 0 1 0 0 0 0] \tOF:  9 \tFeasible:  True\n",
      "input: \t [0 1 0 1 0 0 0 0]\n",
      "*ChangeOne( 0 ): [1 1 0 1 0 0 0 0] \tOF:  10 \tFeasible:  True\n",
      "*ChangeOne( 2 ): [0 1 1 1 0 0 0 0] \tOF:  11 \tFeasible:  True\n",
      "*ChangeOne( 5 ): [0 1 0 1 0 1 0 0] \tOF:  12 \tFeasible:  True\n",
      "*ChangeOne( 6 ): [0 1 0 1 0 0 1 0] \tOF:  13 \tFeasible:  True\n",
      "input: \t [0 1 0 1 0 0 1 0]\n",
      "*ChangeOne( 0 ): [1 1 0 1 0 0 1 0] \tOF:  14 \tFeasible:  True\n",
      "*ChangeOne( 2 ): [0 1 1 1 0 0 1 0] \tOF:  15 \tFeasible:  True\n",
      "*ChangeOne( 5 ): [0 1 0 1 0 1 1 0] \tOF:  16 \tFeasible:  True\n",
      "input: \t [0 1 0 1 0 1 1 0]\n",
      "Elapsed time during the whole program in seconds: 0.011460199000012494\n"
     ]
    },
    {
     "data": {
      "text/plain": [
       "Text(0.5, 0, '# Round')"
      ]
     },
     "execution_count": 270,
     "metadata": {
      "tags": []
     },
     "output_type": "execute_result"
    },
    {
     "data": {
      "image/png": "[encoded data removed]",
      "text/plain": [
       "<Figure size 432x288 with 1 Axes>"
      ]
     },
     "metadata": {
      "needs_background": "light",
      "tags": []
     },
     "output_type": "display_data"
    }
   ],
   "source": [
    "X0 = np.array([0,0,0,0,0,0,0,0])\n",
    "bestX = X0.copy()\n",
    "bestOF_ant = 0 \n",
    "\n",
    "printAll = False\n",
    "\n",
    "history = [0]\n",
    "\n",
    "improvement = True\n",
    "\n",
    "t1_start = process_time() \n",
    "\n",
    "while improvement:\n",
    "  bestX, bestOF = neigh_changeOne(bestX)\n",
    "  if bestOF > bestOF_ant:\n",
    "    bestOF_ant = bestOF\n",
    "    history.append(bestOF)\n",
    "  else: \n",
    "    improvement = False\n",
    "\n",
    "# Stop the stopwatch / counter\n",
    "t1_stop = process_time()\n",
    "      \n",
    "print(\"Elapsed time during the whole program in seconds:\",\n",
    "                                         t1_stop-t1_start) \n",
    "\n",
    "plt.plot(history, \"-o\")\n",
    "plt.ylabel('Objetive Function')\n",
    "plt.xlabel('# Round')\n",
    "#plt.annotate('local max', xy=(30, 16), xytext=(15, 16),\n",
    "#             arrowprops=dict(facecolor='black', shrink=0.05),\n",
    "#             )\n",
    "\n"
   ]
  }
 ],
 "metadata": {
  "colab": {
   "collapsed_sections": [],
   "name": "LocalSearch_KnapBin.ipynb",
   "provenance": []
  },
  "kernelspec": {
   "display_name": "Python 3",
   "language": "python",
   "name": "python3"
  },
  "language_info": {
   "codemirror_mode": {
    "name": "ipython",
    "version": 3
   },
   "file_extension": ".py",
   "mimetype": "text/x-python",
   "name": "python",
   "nbconvert_exporter": "python",
   "pygments_lexer": "ipython3",
   "version": "3.8.8"
  }
 },
 "nbformat": 4,
 "nbformat_minor": 1
}
