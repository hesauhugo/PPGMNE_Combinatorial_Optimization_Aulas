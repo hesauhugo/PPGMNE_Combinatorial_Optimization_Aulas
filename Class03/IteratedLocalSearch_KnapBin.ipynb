{
  "nbformat": 4,
  "nbformat_minor": 0,
  "metadata": {
    "colab": {
      "name": "IteratedLocalSearch_KnapBin.ipynb",
      "provenance": [],
      "collapsed_sections": []
    },
    "kernelspec": {
      "name": "python3",
      "display_name": "Python 3"
    },
    "language_info": {
      "name": "python"
    }
  },
  "cells": [
    {
      "cell_type": "code",
      "metadata": {
        "id": "p77bXbNpfOuC"
      },
      "source": [
        "import numpy as np\n",
        "import matplotlib.pyplot as plt\n",
        "from time import process_time"
      ],
      "execution_count": 16,
      "outputs": []
    },
    {
      "cell_type": "markdown",
      "metadata": {
        "id": "IQXSn_6xP6ww"
      },
      "source": [
        "**OI** PESSOAL"
      ]
    },
    {
      "cell_type": "code",
      "metadata": {
        "colab": {
          "base_uri": "https://localhost:8080/"
        },
        "id": "8-kIM_ISfVDY",
        "outputId": "471ba36a-5e5e-4a2a-c035-ef2f27be6e20"
      },
      "source": [
        "#A = np.array([[0,1,2,3,1,2,3,4],\n",
        " #             [1,0,1,2,2,1,2,3],\n",
        "  #           [2,1,0,1,3,2,1,2],\n",
        "   #           [3,2,1,0,4,3,2,1],\n",
        "    #          [1,2,3,4,0,1,2,3],\n",
        "     #         [2,1,2,3,1,0,1,2],\n",
        "      #        [3,2,1,2,2,1,0,1],\n",
        "       #       [4,3,2,1,3,2,1,0]])\n",
        "#RHS  = np.array([10,15,6,11,7,12,23,10])\n",
        "\n",
        "A = np.array([[0,1,2,3,1,2,3,4],\n",
        "              [1,0,1,2,2,1,2,3],\n",
        "              [2,1,0,1,3,2,1,2],\n",
        "              [3,2,1,0,4,3,2,1]])\n",
        "\n",
        "RHS  = np.array([10,15,6,8])\n",
        "\n",
        "\n",
        "row, col = A.shape\n",
        "\n",
        "Utility  = np.array([1,5,2,4,1,3,4,3])\n",
        "\n",
        "print(row)\n",
        "print(col)\n",
        "\n",
        "print(A)"
      ],
      "execution_count": 3,
      "outputs": [
        {
          "output_type": "stream",
          "text": [
            "4\n",
            "8\n",
            "[[0 1 2 3 1 2 3 4]\n",
            " [1 0 1 2 2 1 2 3]\n",
            " [2 1 0 1 3 2 1 2]\n",
            " [3 2 1 0 4 3 2 1]]\n"
          ],
          "name": "stdout"
        }
      ]
    },
    {
      "cell_type": "code",
      "metadata": {
        "colab": {
          "base_uri": "https://localhost:8080/"
        },
        "id": "xn6f3oMdCIcT",
        "outputId": "480bc954-379e-404c-ff45-34a1a619882f"
      },
      "source": [
        "with open('Knap_C150I200.dat') as f:\n",
        "    row = [int(x) for x in next(f).split()] # read first line\n",
        "    empty = [int(x) for x in next(f).split()] # read next line\n",
        "    col = [int(x) for x in next(f).split()] # read next line\n",
        "    empty = [int(x) for x in next(f).split()] # read next line\n",
        "    empty = [int(x) for x in next(f).split()] # read next line\n",
        "\n",
        "    Utility = []\n",
        "    Utility.append([float(x) for x in next(f).split()])\n",
        "\n",
        "    Utility =Utility[0]\n",
        "\n",
        "    empty = [int(x) for x in next(f).split()] # read next line\n",
        "\n",
        "    A = []\n",
        "    count = 0\n",
        "    while count < row[0]: # read rest of lines\n",
        "        A.append([float(x) for x in next(f).split()])\n",
        "        count = count + 1\n",
        "    \n",
        "    empty = [int(x) for x in next(f).split()] # read next line\n",
        "\n",
        "    RHS = []\n",
        "    RHS.append([float(x) for x in next(f).split()])\n",
        "    RHS =RHS[0]\n",
        "\n",
        "RHS = np.array(RHS)\n",
        "A = np.array(A)\n",
        "Utility = np.array(Utility)\n",
        "\n",
        "row, col = A.shape\n",
        "print(row)\n",
        "print(col)\n",
        "\n",
        "print(A)"
      ],
      "execution_count": 21,
      "outputs": [
        {
          "output_type": "stream",
          "text": [
            "150\n",
            "200\n",
            "[[23.47747 10.80426 12.22253 ... 23.19172  8.26664 12.40329]\n",
            " [ 8.10977  0.89613 11.18788 ... 20.45178  7.99894 13.21124]\n",
            " [24.01744 11.19025 24.49414 ... 14.86728 24.36909 21.25069]\n",
            " ...\n",
            " [17.16083 22.12308 22.54983 ...  8.99214  5.90225 24.12901]\n",
            " [23.73312  7.61051  9.86352 ... 23.58698  1.3732   4.29888]\n",
            " [ 7.04156 22.57856  2.82839 ... 18.26934  2.73249 24.92233]]\n"
          ],
          "name": "stdout"
        }
      ]
    },
    {
      "cell_type": "code",
      "metadata": {
        "id": "emFvxPphf1zY"
      },
      "source": [
        "# Define a Objective function\n",
        "def of(c,x):\n",
        "  return sum(c*x)\n",
        "\n",
        "def feasibility(a,b,x):\n",
        "  Feasible = True\n",
        "  for i in range(row):\n",
        "    if sum(a[i]*x) > b[i]:\n",
        "      Feasible = False\n",
        "  return Feasible\n",
        "\n",
        "\n",
        "def neigh_changeOne(x):\n",
        "  if printAll: print(\"input ChangeOne: \\t\", x)\n",
        "  xx = x.copy() #copy the solution to preserve the original\n",
        "  bestX = x.copy()\n",
        "  bestOF = of(bestX,Utility)\n",
        "\n",
        "  for i in range(col):\n",
        "    xx[i] = (1-xx[i])\n",
        "    if printAll: print(\"ChangeOne(\",i, \"): \", xx, \"\\tOF: \", of(xx,Utility), \"\\tFeasible: \", feasibility(A,RHS,xx))\n",
        "    if feasibility(A,RHS,xx):\n",
        "      Obj = of(xx,Utility)\n",
        "      if(Obj > bestOF):\n",
        "        bestX = xx.copy()\n",
        "        bestOF = Obj\n",
        "        if printAll: print(\"*ChangeOne(\",i, \"):\", xx, \"\\tOF: \", of(xx,Utility), \"\\tFeasible: \", feasibility(A,RHS,xx))\n",
        "    xx[i] = (1-xx[i])\n",
        "\n",
        "  return bestX, bestOF\n",
        "\n",
        "def randInitialSolution(x):\n",
        "  x = np.array([0,0,0,0,0,0,0,0])\n",
        "  a = 0;\n",
        "  while feasibility(A,RHS,x):\n",
        "    a = np.random.randint(1, high = col, size=1)\n",
        "    x[a] = 1\n",
        "  x[a] = 0\n",
        "  print(\"Initial: \",x)\n",
        "  return x\n",
        "\n",
        "def perturbation(x, alpha):\n",
        "  a = 0;\n",
        "  print(\"In:\", x)\n",
        "  for i in range(col):\n",
        "    if x[i] == 1:\n",
        "      if np.random.random_sample() < alpha:\n",
        "        x[i] = 0\n",
        "  print(\"Out:\", x)\n",
        "  return x\n",
        "\n",
        "\n",
        "    "
      ],
      "execution_count": 23,
      "outputs": []
    },
    {
      "cell_type": "code",
      "metadata": {
        "colab": {
          "base_uri": "https://localhost:8080/",
          "height": 1000
        },
        "id": "gapyvIWhhE2m",
        "outputId": "08b2429b-3be1-4669-f739-95bc1e75ef62"
      },
      "source": [
        "X0 = np.zeros(col)\n",
        "\n",
        "count = 0\n",
        "limit = 5\n",
        "\n",
        "bestGlobal = X0.copy()\n",
        "bestOF_Global = 0 \n",
        "\n",
        "bestX = X0.copy()\n",
        "bestOF_ant = 0 \n",
        "\n",
        "printAll = False\n",
        "\n",
        "history = [0]\n",
        "initialSolution = [0]\n",
        "\n",
        "t1_start = process_time() \n",
        "while count < limit:\n",
        "  alpha = 0.7;\n",
        "\n",
        "  X0 = perturbation(X0, alpha)\n",
        "  bestX = X0.copy()\n",
        "  bestOF_ant = 0 \n",
        "  bestOF = of(Utility,X0)\n",
        "  improvement = True\n",
        "  history.append(bestOF)\n",
        "  initialSolution.append(bestOF)\n",
        "\n",
        "  while improvement:\n",
        "    bestX, bestOF = neigh_changeOne(bestX)\n",
        "    if bestOF > bestOF_ant:\n",
        "      bestOF_ant = bestOF\n",
        "      history.append(bestOF)\n",
        "      initialSolution.append(np.nan)\n",
        "      X0 = bestX\n",
        "    else: \n",
        "      improvement = False\n",
        "\n",
        "  count = count + 1\n",
        "  if bestOF_Global > bestOF:\n",
        "    bestOF_Global = bestOF\n",
        "\n",
        "\n",
        "# Stop the stopwatch / counter\n",
        "t1_stop = process_time()\n",
        "      \n",
        "print(\"Elapsed time during the whole program in seconds:\",\n",
        "t1_stop-t1_start) \n",
        "\n",
        "plt.plot(history, \"-o\", label = \"Improvement\")\n",
        "plt.plot(initialSolution, \"X\", label = \"Initial Solution\")\n",
        "plt.rcParams[\"figure.figsize\"] = (40,3)\n",
        "plt.legend()\n",
        "plt.ylabel('Objetive Function')\n",
        "plt.xlabel('# Round')\n",
        "\n",
        "#plt.annotate('local max', xy=(30, 16), xytext=(15, 16),\n",
        "#             arrowprops=dict(facecolor='black', shrink=0.05),\n",
        "#             )\n",
        "\n"
      ],
      "execution_count": 24,
      "outputs": [
        {
          "output_type": "stream",
          "text": [
            "In: [0. 0. 0. 0. 0. 0. 0. 0. 0. 0. 0. 0. 0. 0. 0. 0. 0. 0. 0. 0. 0. 0. 0. 0.\n",
            " 0. 0. 0. 0. 0. 0. 0. 0. 0. 0. 0. 0. 0. 0. 0. 0. 0. 0. 0. 0. 0. 0. 0. 0.\n",
            " 0. 0. 0. 0. 0. 0. 0. 0. 0. 0. 0. 0. 0. 0. 0. 0. 0. 0. 0. 0. 0. 0. 0. 0.\n",
            " 0. 0. 0. 0. 0. 0. 0. 0. 0. 0. 0. 0. 0. 0. 0. 0. 0. 0. 0. 0. 0. 0. 0. 0.\n",
            " 0. 0. 0. 0. 0. 0. 0. 0. 0. 0. 0. 0. 0. 0. 0. 0. 0. 0. 0. 0. 0. 0. 0. 0.\n",
            " 0. 0. 0. 0. 0. 0. 0. 0. 0. 0. 0. 0. 0. 0. 0. 0. 0. 0. 0. 0. 0. 0. 0. 0.\n",
            " 0. 0. 0. 0. 0. 0. 0. 0. 0. 0. 0. 0. 0. 0. 0. 0. 0. 0. 0. 0. 0. 0. 0. 0.\n",
            " 0. 0. 0. 0. 0. 0. 0. 0. 0. 0. 0. 0. 0. 0. 0. 0. 0. 0. 0. 0. 0. 0. 0. 0.\n",
            " 0. 0. 0. 0. 0. 0. 0. 0.]\n",
            "Out: [0. 0. 0. 0. 0. 0. 0. 0. 0. 0. 0. 0. 0. 0. 0. 0. 0. 0. 0. 0. 0. 0. 0. 0.\n",
            " 0. 0. 0. 0. 0. 0. 0. 0. 0. 0. 0. 0. 0. 0. 0. 0. 0. 0. 0. 0. 0. 0. 0. 0.\n",
            " 0. 0. 0. 0. 0. 0. 0. 0. 0. 0. 0. 0. 0. 0. 0. 0. 0. 0. 0. 0. 0. 0. 0. 0.\n",
            " 0. 0. 0. 0. 0. 0. 0. 0. 0. 0. 0. 0. 0. 0. 0. 0. 0. 0. 0. 0. 0. 0. 0. 0.\n",
            " 0. 0. 0. 0. 0. 0. 0. 0. 0. 0. 0. 0. 0. 0. 0. 0. 0. 0. 0. 0. 0. 0. 0. 0.\n",
            " 0. 0. 0. 0. 0. 0. 0. 0. 0. 0. 0. 0. 0. 0. 0. 0. 0. 0. 0. 0. 0. 0. 0. 0.\n",
            " 0. 0. 0. 0. 0. 0. 0. 0. 0. 0. 0. 0. 0. 0. 0. 0. 0. 0. 0. 0. 0. 0. 0. 0.\n",
            " 0. 0. 0. 0. 0. 0. 0. 0. 0. 0. 0. 0. 0. 0. 0. 0. 0. 0. 0. 0. 0. 0. 0. 0.\n",
            " 0. 0. 0. 0. 0. 0. 0. 0.]\n",
            "In: [0. 1. 1. 1. 0. 1. 1. 1. 1. 1. 1. 0. 0. 1. 0. 0. 1. 0. 1. 1. 1. 1. 1. 1.\n",
            " 1. 1. 1. 1. 0. 0. 1. 1. 1. 1. 0. 1. 1. 1. 1. 1. 1. 1. 1. 0. 1. 1. 1. 0.\n",
            " 1. 0. 1. 1. 0. 1. 0. 0. 1. 0. 0. 1. 1. 1. 1. 0. 0. 0. 1. 0. 1. 1. 1. 1.\n",
            " 1. 1. 1. 1. 0. 1. 1. 1. 0. 1. 1. 0. 0. 0. 0. 1. 0. 1. 1. 1. 1. 1. 1. 0.\n",
            " 1. 0. 1. 0. 1. 1. 1. 0. 1. 0. 1. 1. 0. 1. 0. 0. 0. 1. 1. 1. 0. 0. 0. 1.\n",
            " 1. 1. 1. 1. 0. 0. 0. 1. 0. 1. 0. 1. 1. 1. 0. 1. 0. 1. 1. 0. 1. 1. 1. 1.\n",
            " 0. 1. 1. 1. 0. 1. 1. 1. 1. 0. 0. 0. 0. 1. 1. 1. 1. 1. 1. 1. 0. 0. 1. 0.\n",
            " 0. 1. 1. 1. 1. 1. 1. 0. 0. 1. 0. 0. 1. 1. 1. 1. 1. 0. 1. 1. 0. 1. 1. 0.\n",
            " 0. 1. 1. 1. 1. 0. 1. 1.]\n",
            "Out: [0. 0. 0. 0. 0. 1. 1. 0. 0. 0. 0. 0. 0. 0. 0. 0. 1. 0. 0. 0. 0. 1. 0. 0.\n",
            " 0. 0. 0. 0. 0. 0. 1. 0. 0. 1. 0. 0. 1. 0. 0. 0. 0. 0. 1. 0. 0. 0. 1. 0.\n",
            " 0. 0. 1. 0. 0. 0. 0. 0. 1. 0. 0. 1. 0. 0. 0. 0. 0. 0. 1. 0. 0. 0. 1. 1.\n",
            " 0. 0. 0. 1. 0. 0. 0. 1. 0. 0. 0. 0. 0. 0. 0. 0. 0. 1. 1. 0. 0. 0. 1. 0.\n",
            " 0. 0. 0. 0. 0. 1. 1. 0. 0. 0. 0. 1. 0. 1. 0. 0. 0. 0. 0. 0. 0. 0. 0. 0.\n",
            " 1. 1. 0. 0. 0. 0. 0. 0. 0. 0. 0. 0. 0. 1. 0. 0. 0. 0. 0. 0. 0. 0. 0. 0.\n",
            " 0. 0. 0. 1. 0. 1. 0. 1. 0. 0. 0. 0. 0. 0. 0. 1. 0. 1. 1. 0. 0. 0. 1. 0.\n",
            " 0. 0. 1. 0. 0. 1. 0. 0. 0. 0. 0. 0. 0. 1. 1. 0. 1. 0. 0. 0. 0. 0. 1. 0.\n",
            " 0. 1. 0. 0. 1. 0. 1. 0.]\n",
            "In: [0. 1. 1. 1. 0. 1. 1. 1. 1. 1. 1. 0. 0. 1. 0. 0. 1. 0. 1. 1. 1. 1. 1. 1.\n",
            " 1. 1. 1. 1. 0. 0. 1. 1. 1. 1. 0. 1. 1. 1. 1. 1. 1. 1. 1. 0. 1. 1. 1. 0.\n",
            " 1. 0. 1. 1. 0. 1. 0. 0. 1. 0. 0. 1. 1. 1. 1. 0. 0. 0. 1. 0. 1. 1. 1. 1.\n",
            " 1. 1. 1. 1. 0. 1. 1. 1. 0. 1. 1. 0. 0. 0. 0. 1. 0. 1. 1. 1. 1. 1. 1. 0.\n",
            " 1. 0. 1. 0. 1. 1. 1. 0. 1. 0. 1. 1. 0. 1. 0. 0. 0. 1. 1. 1. 0. 0. 0. 1.\n",
            " 1. 1. 1. 1. 0. 0. 0. 1. 0. 1. 0. 1. 1. 1. 0. 1. 0. 1. 1. 0. 1. 1. 1. 1.\n",
            " 0. 1. 1. 1. 0. 1. 1. 1. 1. 0. 0. 0. 0. 1. 1. 1. 1. 1. 1. 1. 0. 0. 1. 0.\n",
            " 0. 1. 1. 1. 1. 1. 1. 0. 0. 1. 0. 0. 1. 1. 1. 1. 1. 0. 1. 1. 0. 1. 1. 0.\n",
            " 0. 1. 1. 1. 1. 0. 1. 1.]\n",
            "Out: [0. 1. 0. 1. 0. 0. 0. 0. 0. 0. 0. 0. 0. 1. 0. 0. 1. 0. 0. 0. 1. 1. 0. 1.\n",
            " 0. 0. 1. 0. 0. 0. 1. 1. 0. 0. 0. 0. 1. 0. 0. 1. 1. 1. 0. 0. 1. 1. 0. 0.\n",
            " 1. 0. 1. 0. 0. 0. 0. 0. 0. 0. 0. 0. 0. 0. 0. 0. 0. 0. 0. 0. 1. 0. 0. 1.\n",
            " 1. 0. 0. 0. 0. 1. 0. 1. 0. 0. 1. 0. 0. 0. 0. 0. 0. 0. 1. 0. 1. 0. 1. 0.\n",
            " 0. 0. 0. 0. 0. 1. 1. 0. 1. 0. 0. 0. 0. 1. 0. 0. 0. 0. 0. 0. 0. 0. 0. 0.\n",
            " 1. 0. 1. 1. 0. 0. 0. 0. 0. 0. 0. 0. 1. 0. 0. 0. 0. 1. 0. 0. 1. 0. 0. 0.\n",
            " 0. 1. 1. 0. 0. 0. 0. 0. 0. 0. 0. 0. 0. 1. 1. 1. 0. 0. 0. 1. 0. 0. 0. 0.\n",
            " 0. 0. 0. 0. 0. 1. 1. 0. 0. 0. 0. 0. 1. 1. 0. 0. 1. 0. 0. 0. 0. 0. 1. 0.\n",
            " 0. 0. 0. 0. 0. 0. 1. 1.]\n",
            "In: [0. 1. 1. 1. 0. 1. 1. 1. 1. 1. 1. 0. 0. 1. 0. 0. 1. 0. 1. 1. 1. 1. 1. 1.\n",
            " 1. 1. 1. 1. 0. 0. 1. 1. 1. 1. 0. 1. 1. 1. 1. 1. 1. 1. 1. 0. 1. 1. 1. 0.\n",
            " 1. 0. 1. 1. 0. 1. 0. 0. 1. 0. 0. 1. 1. 1. 1. 0. 0. 0. 1. 0. 1. 1. 1. 1.\n",
            " 1. 1. 1. 1. 0. 1. 1. 1. 0. 1. 1. 0. 0. 0. 0. 1. 0. 1. 1. 1. 1. 1. 1. 0.\n",
            " 1. 0. 1. 0. 1. 1. 1. 0. 1. 0. 1. 1. 0. 1. 0. 0. 0. 1. 1. 1. 0. 0. 0. 1.\n",
            " 1. 1. 1. 1. 0. 0. 0. 1. 0. 1. 0. 1. 1. 1. 0. 1. 0. 1. 1. 0. 1. 1. 1. 1.\n",
            " 0. 1. 1. 1. 0. 1. 1. 1. 1. 0. 0. 0. 0. 1. 1. 1. 1. 1. 1. 1. 0. 0. 1. 0.\n",
            " 0. 1. 1. 1. 1. 1. 1. 0. 0. 1. 0. 0. 1. 1. 1. 1. 1. 0. 1. 1. 0. 1. 1. 0.\n",
            " 0. 1. 1. 1. 1. 0. 1. 1.]\n",
            "Out: [0. 0. 0. 1. 0. 0. 1. 1. 0. 1. 0. 0. 0. 0. 0. 0. 0. 0. 0. 1. 0. 0. 0. 1.\n",
            " 0. 0. 1. 1. 0. 0. 0. 0. 1. 1. 0. 0. 0. 0. 0. 0. 0. 1. 1. 0. 1. 1. 1. 0.\n",
            " 0. 0. 0. 0. 0. 1. 0. 0. 0. 0. 0. 0. 1. 1. 1. 0. 0. 0. 0. 0. 0. 1. 0. 0.\n",
            " 0. 0. 1. 1. 0. 0. 0. 0. 0. 0. 0. 0. 0. 0. 0. 0. 0. 1. 1. 0. 0. 1. 0. 0.\n",
            " 0. 0. 0. 0. 0. 0. 0. 0. 0. 0. 0. 1. 0. 0. 0. 0. 0. 0. 1. 1. 0. 0. 0. 1.\n",
            " 0. 1. 0. 1. 0. 0. 0. 0. 0. 0. 0. 1. 0. 0. 0. 0. 0. 1. 0. 0. 1. 0. 0. 0.\n",
            " 0. 1. 1. 1. 0. 0. 1. 0. 0. 0. 0. 0. 0. 0. 1. 1. 0. 0. 1. 0. 0. 0. 0. 0.\n",
            " 0. 0. 0. 1. 1. 0. 0. 0. 0. 0. 0. 0. 1. 1. 1. 0. 1. 0. 1. 1. 0. 1. 0. 0.\n",
            " 0. 0. 0. 0. 0. 0. 0. 1.]\n",
            "In: [0. 1. 1. 1. 0. 1. 1. 1. 1. 1. 1. 0. 0. 1. 0. 0. 1. 0. 1. 1. 1. 1. 1. 1.\n",
            " 1. 1. 1. 1. 0. 0. 1. 1. 1. 1. 0. 1. 1. 1. 1. 1. 1. 1. 1. 0. 1. 1. 1. 0.\n",
            " 1. 0. 1. 1. 0. 1. 0. 0. 1. 0. 0. 1. 1. 1. 1. 0. 0. 0. 1. 0. 1. 1. 1. 1.\n",
            " 1. 1. 1. 1. 0. 1. 1. 1. 0. 1. 1. 0. 0. 0. 0. 1. 0. 1. 1. 1. 1. 1. 1. 0.\n",
            " 1. 0. 1. 0. 1. 1. 1. 0. 1. 0. 1. 1. 0. 1. 0. 0. 0. 1. 1. 1. 0. 0. 0. 1.\n",
            " 1. 1. 1. 1. 0. 0. 0. 1. 0. 1. 0. 1. 1. 1. 0. 1. 0. 1. 1. 0. 1. 1. 1. 1.\n",
            " 0. 1. 1. 1. 0. 1. 1. 1. 1. 0. 0. 0. 0. 1. 1. 1. 1. 1. 1. 1. 0. 0. 1. 0.\n",
            " 0. 1. 1. 1. 1. 1. 1. 0. 0. 1. 0. 0. 1. 1. 1. 1. 1. 0. 1. 1. 0. 1. 1. 0.\n",
            " 0. 1. 1. 1. 1. 0. 1. 1.]\n",
            "Out: [0. 0. 1. 0. 0. 0. 1. 0. 0. 0. 1. 0. 0. 0. 0. 0. 0. 0. 0. 1. 0. 0. 1. 0.\n",
            " 1. 0. 1. 0. 0. 0. 0. 1. 0. 0. 0. 0. 1. 0. 0. 0. 1. 0. 0. 0. 0. 0. 0. 0.\n",
            " 0. 0. 0. 0. 0. 0. 0. 0. 1. 0. 0. 0. 0. 0. 0. 0. 0. 0. 1. 0. 0. 0. 0. 0.\n",
            " 0. 1. 0. 0. 0. 0. 0. 1. 0. 1. 0. 0. 0. 0. 0. 1. 0. 0. 0. 1. 0. 0. 0. 0.\n",
            " 1. 0. 0. 0. 0. 1. 0. 0. 1. 0. 0. 1. 0. 0. 0. 0. 0. 1. 1. 1. 0. 0. 0. 1.\n",
            " 1. 0. 0. 0. 0. 0. 0. 1. 0. 0. 0. 0. 0. 0. 0. 1. 0. 0. 0. 0. 0. 1. 0. 1.\n",
            " 0. 1. 0. 0. 0. 0. 1. 1. 1. 0. 0. 0. 0. 1. 0. 0. 0. 0. 0. 0. 0. 0. 1. 0.\n",
            " 0. 0. 1. 0. 0. 0. 0. 0. 0. 0. 0. 0. 0. 1. 0. 0. 1. 0. 0. 1. 0. 0. 0. 0.\n",
            " 0. 0. 0. 0. 0. 0. 0. 1.]\n",
            "Elapsed time during the whole program in seconds: 533.373713355\n"
          ],
          "name": "stdout"
        },
        {
          "output_type": "execute_result",
          "data": {
            "text/plain": [
              "Text(0.5, 0, '# Round')"
            ]
          },
          "metadata": {
            "tags": []
          },
          "execution_count": 24
        },
        {
          "output_type": "display_data",
          "data": {
            "image/png": "[encoded data removed]",
            "text/plain": [
              "<Figure size 2880x216 with 1 Axes>"
            ]
          },
          "metadata": {
            "tags": [],
            "needs_background": "light"
          }
        }
      ]
    }
  ]
}