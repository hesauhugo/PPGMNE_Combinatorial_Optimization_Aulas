{
 "cells": [
  {
   "cell_type": "markdown",
   "metadata": {
    "id": "oZhbkxhrWCQY"
   },
   "source": [
    "Primeiramente vamos carregar as libs \"numpy\" e \"sys\"."
   ]
  },
  {
   "cell_type": "code",
   "execution_count": 1,
   "metadata": {
    "id": "Spw2c4knV_Ex"
   },
   "outputs": [],
   "source": [
    "import numpy as np\n",
    "import sys"
   ]
  },
  {
   "cell_type": "markdown",
   "metadata": {
    "id": "Q1vdlwhcWL2s"
   },
   "source": [
    "Função para ler as instancias a partir de um endereço dado.\n",
    "\n",
    "Parâmetro:\n",
    "\n",
    "* fname = Nome do arquivo da instância.\n",
    "\n",
    "Retornos:\n",
    "* Utility = Vetor c do problema ou vetor de utilidades\n",
    "* A = Matriz A do problema\n",
    "* RHS = Vetor b do problema ou RHS\n",
    "* row = número de restrições do problema ou número de linhas\n",
    "* col = número de colunas do problema ou número de objetos "
   ]
  },
  {
   "cell_type": "code",
   "execution_count": 2,
   "metadata": {
    "id": "nOMUbmzJWXeH"
   },
   "outputs": [],
   "source": [
    "def ReadInstance(Fname):\n",
    "    with open(Fname) as f:\n",
    "    \n",
    "        row = [int(x) for x in next(f).split()] # read first line\n",
    "        empty = [int(x) for x in next(f).split()] # read next line\n",
    "        col = [int(x) for x in next(f).split()] # read next line\n",
    "        empty = [int(x) for x in next(f).split()] # read next line\n",
    "        empty = [int(x) for x in next(f).split()] # read next line\n",
    "\n",
    "        Utility = []\n",
    "        Utility.append([float(x) for x in next(f).split()])\n",
    "\n",
    "        Utility =Utility[0]\n",
    "\n",
    "        empty = [int(x) for x in next(f).split()] # read next line\n",
    "\n",
    "        A = []\n",
    "        count = 0\n",
    "        while count < row[0]: # read rest of lines\n",
    "            A.append([float(x) for x in next(f).split()])\n",
    "            count = count + 1\n",
    "\n",
    "        empty = [int(x) for x in next(f).split()] # read next line\n",
    "\n",
    "        RHS = []\n",
    "        RHS.append([float(x) for x in next(f).split()])\n",
    "        RHS =RHS[0]\n",
    "\n",
    "    RHS = np.array(RHS)\n",
    "    A = np.array(A)\n",
    "    Utility = np.array(Utility)\n",
    "\n",
    "    row, col = A.shape\n",
    "    return Utility, A, RHS, row, col\n"
   ]
  },
  {
   "cell_type": "markdown",
   "metadata": {
    "id": "rhssqPmDWYA9"
   },
   "source": [
    "Função para Calcular a Função objetivo:\n",
    "\n",
    "Parâmetros :\n",
    "\n",
    "* x = Vetor da solução, binário; = 1 se o objeto está na mochila; = 0 caso contrário;\n",
    "* c = Vetor c do problema, ou vetor de utilidades;\n",
    "\n",
    "Retorno:\n",
    "\n",
    "* Valor da Função objetivo"
   ]
  },
  {
   "cell_type": "code",
   "execution_count": 3,
   "metadata": {
    "id": "mrS-ohk3WdGt"
   },
   "outputs": [],
   "source": [
    "def CalculateOF(x, c):\n",
    "    return sum(c*x)"
   ]
  },
  {
   "cell_type": "markdown",
   "metadata": {
    "id": "wXcvqARfWfPA"
   },
   "source": [
    "Função para atualizar a Função objetivo para vizinhança ChangeOne:\n",
    "\n",
    "Parâmetros:\n",
    "\n",
    "* x = Vetor da solução, binário; = 1 se o objeto está na mochila; = 0 caso contrário;\n",
    "* c = Vetor c do problema, ou vetor de utilidades;\n",
    "* prevOF = Valor da função objetivo anterior (valor que será atualizado);\n",
    "* j = Índice do objeto que será colocado/retirado da mochila;\n",
    "\n",
    "Retorno:\n",
    "\n",
    "* Valor da função objetivo atualizada;\n"
   ]
  },
  {
   "cell_type": "code",
   "execution_count": 4,
   "metadata": {
    "id": "AKPtv-XAWmX8"
   },
   "outputs": [],
   "source": [
    "#Se alterar o calculo da linha 3, esta função pode ser aplicada a qualquer vizinhança.\n",
    "def UpdateOF(x, c, prevOF, j):\n",
    "    return prevOF + (1-x[j]) * c[j] - x[j] * c[j] \n",
    "  #Retorna: Fo anterior + valor atualizado do objeto * custo - o valor atual do objeto * o custo\n"
   ]
  },
  {
   "cell_type": "markdown",
   "metadata": {
    "id": "nRXsg2SmWpUc"
   },
   "source": [
    "Função para verificar a factibilidade da vizinhança ChangeOne:\n",
    "\n",
    "Parâmetros:\n",
    "    \n",
    "* a = Matriz A do problema\n",
    "* b = Vetor b do problema ou RHS\n",
    "* x = Vetor da solução, binário; = 1 se o objeto está na mochila;\n",
    "* LHS = Vetor com o valor calculado do LHS. Cada posição representa uma linha;\n",
    "* j = Índice do objeto que será colocado/retirado da mochila;\n",
    "* row = número de restrições do problema ou número de linhas;\n",
    "\n",
    "Retorno:\n",
    "* Factibilidade do problema: true ou false"
   ]
  },
  {
   "cell_type": "code",
   "execution_count": 5,
   "metadata": {
    "id": "tKwiALBBWo5O"
   },
   "outputs": [],
   "source": [
    "#Se alterar o calculo da linha 5, esta função pode ser aplicada a qualquer vizinhança.\n",
    "def IsFeasible(a, b, x, LHS, j, row):\n",
    "    Feasible = True\n",
    "    for i in range(row):\n",
    "        aux = LHS[i] + (1 - x[j]) * a[i,j] - x[j] * a[i,j]\n",
    "        # aux = Valor atual do LHS para restrição i \n",
    "        #     + valor atualizado do objeto j * custo da restrição i para objeto j\n",
    "        #     - o valor atual do objeto j * o custo custo da restrição i para objeto j;\n",
    "        if (aux >  b[i]):\n",
    "            Feasible = False\n",
    "            break\n",
    "    return Feasible"
   ]
  },
  {
   "cell_type": "markdown",
   "metadata": {
    "id": "ex4-x44DuraE"
   },
   "source": []
  },
  {
   "cell_type": "markdown",
   "metadata": {
    "id": "mWu7T_xdXv_4"
   },
   "source": [
    "Função para calcular o LHS:\n",
    "\n",
    "Parâmetros:\n",
    "    \n",
    "* x = Vetor da solução, binário; = 1 se o objeto está na mochila;\n",
    "* a = Matriz A do problema\n",
    "* row = número de linhas ou restrições do problema;\n",
    "\n",
    "Retorno:\n",
    "* LHS = Vetor com o valor calculado do LHS. Cada posição representa uma linha;\n"
   ]
  },
  {
   "cell_type": "code",
   "execution_count": 6,
   "metadata": {
    "id": "_LVBJjWGXnNB"
   },
   "outputs": [],
   "source": [
    "def CalculateLHS(x, a, row):\n",
    "    LHS = np.zeros(row)\n",
    "    for i in range(row):\n",
    "        LHS[i] = sum(a[i]*x)\n",
    "    return LHS "
   ]
  },
  {
   "cell_type": "markdown",
   "metadata": {
    "id": "Y9wWFRo7X9Dd"
   },
   "source": [
    "Função para atualizar o LHS para a vizinhança ChangeOne:\n",
    "\n",
    "Parâmetros:\n",
    "    \n",
    "* a = Matriz A do problema\n",
    "* x = Vetor da solução, binário; = 1 se o objeto está na mochila;\n",
    "* LHS = Vetor com o valor calculado do LHS. Cada posição representa uma linha;\n",
    "* j = Índice do objeto que será colocado/retirado da mochila;\n",
    "* row = número de restrições do problema ou número de linhas;\n",
    "\n",
    "Retorno:\n",
    "* LHS = Vetor com o valor calculado do LHS atualizado. Cada posição representa uma linha;"
   ]
  },
  {
   "cell_type": "code",
   "execution_count": 7,
   "metadata": {
    "id": "zcOMmhzoYBA2"
   },
   "outputs": [],
   "source": [
    "#Se alterar o calculo da linha 4, esta função pode ser aplicada a qualquer vizinhança.\n",
    "def UpdateLHS(a, x, LHS, j, row):\n",
    "    for i in range(row):\n",
    "        LHS[i] = LHS[i] + (1 - x[j]) * a[i,j] - x[j] * a[i,j]\n",
    "    # LHS[i] = Valor atual do LHS para restrição i \n",
    "    #        + valor atualizado do objeto j * custo da restrição i para objeto j\n",
    "    #        - o valor atual do objeto j * o custo custo da restrição i para objeto j;\n",
    "    return LHS "
   ]
  },
  {
   "cell_type": "markdown",
   "metadata": {
    "id": "92oHNTHMYgdC"
   },
   "source": [
    "Função para Heuristíca Construtiva: \n",
    "  \n",
    "\n",
    "Parâmetros:\n",
    "    \n",
    "\n",
    "* a = Matriz A do problema\n",
    "* b = Vetor b do problema ou RHS\n",
    "* c = Vetor c do problema ou vetor de utilidades\n",
    "* row = número de restrições do problema ou número de linhas\n",
    "* col = número de colunas do problema ou número de objetos \n",
    "\n",
    "Retorno:\n",
    "\n",
    "* x = Vetor da solução, binário; = 1 se o objeto está na mochila, =0 c.c.;"
   ]
  },
  {
   "cell_type": "code",
   "execution_count": 8,
   "metadata": {
    "id": "fgSEniyoYgDK"
   },
   "outputs": [],
   "source": [
    "def Greedy(a, b, c, row, col):\n",
    "    x = np.zeros(col)\n",
    "    cc = c.copy()\n",
    "    Feasible = True\n",
    "    maxIndex = 0\n",
    "    LHS = CalculateLHS(x, a, row) \n",
    "    while Feasible:\n",
    "        maxIndex = np.argmax(cc)\n",
    "        Feasible = IsFeasible(a, b, x, LHS, maxIndex, row)\n",
    "        LHS = UpdateLHS(a, x, LHS, maxIndex, row)\n",
    "        x[maxIndex] = 1\n",
    "        cc[maxIndex] = 0\n",
    "    x[maxIndex] = 0\n",
    "    return x"
   ]
  },
  {
   "cell_type": "markdown",
   "metadata": {
    "id": "mH5uAkzXb76_"
   },
   "source": [
    "Funções para atualizar a Lista Tabu para vizinhança ChangeOne:\n",
    "\n",
    "Parâmetros:\n",
    "* tabuList = Vetor para representar a Lista Tabu;\n",
    "* j = Índice do objeto que será colocado/retirado da mochila;\n",
    "* SizeMax = Tamanho máximo da lista Tabu;\n",
    "\n",
    "Retorno:\n",
    "\n",
    "* tabuList = Vetor para representar a Lista Tabu atualizado;"
   ]
  },
  {
   "cell_type": "code",
   "execution_count": 9,
   "metadata": {
    "id": "qdb25CyecSIq"
   },
   "outputs": [],
   "source": [
    "def UpdateTabuList(tabuList, j, SizeMax):\n",
    "    if (len(tabuList) == SizeMax):\n",
    "        del tabuList[0]\n",
    "    tabuList.append(j)\n",
    "    return tabuList"
   ]
  },
  {
   "cell_type": "markdown",
   "metadata": {
    "id": "o9O7i7QKc2Ue"
   },
   "source": [
    "Função para calcular a vizinhança ChangeOne com lista Tabu:\n",
    "\n",
    "Parâmetros:\n",
    "    \n",
    "* x = Vetor da solução, binário; = 1 se o objeto está na mochila;\n",
    "* tabuList = Vetor para representar a Lista Tabu;\n",
    "* A = Matriz A do problema;\n",
    "* Utility = Vetor c do problema ou vetor de utilidades;\n",
    "* RHS = Vetor b do problema ou RHS;\n",
    "* row = número de restrições do problema ou número de linhas;\n",
    "* col = número de colunas do problema ou número de objeto;\n",
    "* SizeMax = Tamanho máximo da lista Tabu;\n",
    "\n",
    "Retorno: \n",
    "\n",
    "* Vetor com a melhor solução, binário; = 1 se o objeto está na mochila;\n",
    "* Valor da Função Ojbetivo;\n",
    "* Vetor para representar a Lista Tabu;\n"
   ]
  },
  {
   "cell_type": "code",
   "execution_count": 10,
   "metadata": {
    "id": "f21hhrfQc_mG"
   },
   "outputs": [],
   "source": [
    "def ChangeOneTS(x, tabuList, A, Utility, RHS, row, col, SizeMax):\n",
    "    actualX = x.copy() #copy the solution to preserve the original\n",
    "    bestX = x.copy()\n",
    "    LHS = CalculateLHS(x, A, row)\n",
    "    prevOF = CalculateOF(x, Utility)\n",
    "    bestOF = 0\n",
    "    bestIndex = -1\n",
    "    for j in range(col):\n",
    "        actualOF = UpdateOF(actualX, Utility, prevOF, j)\n",
    "        if (tabuList.count(j) == 0): #Verificaça6o Lista Tabu\n",
    "            if (actualOF > bestOF):\n",
    "                if (IsFeasible(A, RHS, actualX, LHS, j, row)):\n",
    "                    bestIndex = j\n",
    "                    bestOF = actualOF\n",
    "          \n",
    "    if (bestIndex > -1):\n",
    "        bestX = actualX.copy()\n",
    "        bestX[bestIndex] = (1-actualX[bestIndex])\n",
    "        tabuList = UpdateTabuList(tabuList, bestIndex, SizeMax)\n",
    "        return bestX, bestOF, tabuList\n",
    "    else:\n",
    "        return actualX, prevOF, tabuList"
   ]
  },
  {
   "cell_type": "markdown",
   "metadata": {
    "id": "SlsWQtHqeKNv"
   },
   "source": [
    "Função da busca Tabu:\n",
    "\n",
    "Parâmetros:\n",
    "* X0 = Vetor da solução, binário; = 1 se o objeto está na mochila;\n",
    "* A = Matriz A do problema;\n",
    "* RHS = Vetor b do problema ou RHS;\n",
    "* Utility = Vetor c do problema ou vetor de utilidades;\n",
    "* row = número de restrições do problema ou número de linhas;\n",
    "* col = número de colunas do problema ou número de objeto;\n",
    "* maxItNoImprove = Número máximo de iterações sem melhoria;\n",
    "* SizeMax = Tamanho máximo da lista Tabu;\n",
    "\n",
    "\n",
    "Retorno:\n",
    "* Valor da Função objetivo"
   ]
  },
  {
   "cell_type": "code",
   "execution_count": 11,
   "metadata": {
    "id": "BUJk-E__eeCG"
   },
   "outputs": [],
   "source": [
    "# COLOCAR AQUI O SEU TABU SEARCH\n",
    "def TabuSearch(X0, A, RHS, Utility, row, col, maxItNoImprove, SizeMax):\n",
    "    actualX = X0.copy()\n",
    "    bestX = X0.copy()\n",
    "    actualOF = CalculateOF(bestX, Utility)\n",
    "    bestOF = actualOF\n",
    "    tabuList = []\n",
    "\n",
    "    iteration = 0\n",
    "\n",
    "    while (iteration < maxItNoImprove):\n",
    "        actualX, actualOF, tabuList = ChangeOneTS(actualX, tabuList, A, Utility, RHS, row, col, SizeMax)\n",
    "        if actualOF > bestOF:\n",
    "            bestOF = actualOF\n",
    "            bestX = actualX.copy()\n",
    "            iteration = 0\n",
    "        #   print(\"*OF: \", bestOF)  \n",
    "        iteration += 1\n",
    "    return bestOF"
   ]
  },
  {
   "cell_type": "markdown",
   "metadata": {
    "id": "KvuCiuQtjEeG"
   },
   "source": [
    "Função para salvar os argumentos passados pelo IRACE:\n",
    "\n",
    "Parâmetro:\n",
    "\n",
    "* argv = Argumentos passados pelo IRACE acessados atraves do comando sys.argv \n",
    "\n",
    "Retorno:\n",
    "* Nome do arquivo da instância;\n",
    "* Número máximo de iterações sem melhoria;\n",
    "* Tamanho máximo da lista tabu;"
   ]
  },
  {
   "cell_type": "code",
   "execution_count": 12,
   "metadata": {
    "id": "I-UF0kl0icAt"
   },
   "outputs": [],
   "source": [
    "def GetArguments(argv):\n",
    "    parameters = []\n",
    "\n",
    "    for i, arg in enumerate(argv):\n",
    "        parameters.append(arg)\n",
    "      \n",
    "    if(len(argv) == 5):  \n",
    "        fName = parameters[2] \n",
    "        maxItNoImprove = float(parameters[4])\n",
    "        SizeMax = float(parameters[6])\n",
    "    else:\n",
    "        fName = parameters[1] \n",
    "        maxItNoImprove = float(parameters[3])\n",
    "        SizeMax = float(parameters[5])\n",
    "    return fName, maxItNoImprove, SizeMax"
   ]
  },
  {
   "cell_type": "markdown",
   "metadata": {
    "id": "t86u-uy0hnRz"
   },
   "source": [
    "Função Principal:\n"
   ]
  },
  {
   "cell_type": "code",
   "execution_count": 13,
   "metadata": {
    "id": "3oSabgnSh3lY"
   },
   "outputs": [
    {
     "ename": "IndexError",
     "evalue": "list index out of range",
     "output_type": "error",
     "traceback": [
      "\u001b[1;31m---------------------------------------------------------------------------\u001b[0m",
      "\u001b[1;31mIndexError\u001b[0m                                Traceback (most recent call last)",
      "\u001b[1;32m<ipython-input-13-15381bff1278>\u001b[0m in \u001b[0;36m<module>\u001b[1;34m\u001b[0m\n\u001b[0;32m      9\u001b[0m \u001b[1;33m\u001b[0m\u001b[0m\n\u001b[0;32m     10\u001b[0m \u001b[1;32mif\u001b[0m \u001b[0m__name__\u001b[0m \u001b[1;33m==\u001b[0m \u001b[1;34m\"__main__\"\u001b[0m\u001b[1;33m:\u001b[0m\u001b[1;33m\u001b[0m\u001b[1;33m\u001b[0m\u001b[0m\n\u001b[1;32m---> 11\u001b[1;33m     \u001b[0mprint\u001b[0m\u001b[1;33m(\u001b[0m\u001b[0mmain\u001b[0m\u001b[1;33m(\u001b[0m\u001b[1;33m)\u001b[0m\u001b[1;33m)\u001b[0m\u001b[1;33m\u001b[0m\u001b[1;33m\u001b[0m\u001b[0m\n\u001b[0m",
      "\u001b[1;32m<ipython-input-13-15381bff1278>\u001b[0m in \u001b[0;36mmain\u001b[1;34m()\u001b[0m\n\u001b[0;32m      1\u001b[0m \u001b[1;32mdef\u001b[0m \u001b[0mmain\u001b[0m\u001b[1;33m(\u001b[0m\u001b[1;33m)\u001b[0m\u001b[1;33m:\u001b[0m\u001b[1;33m\u001b[0m\u001b[1;33m\u001b[0m\u001b[0m\n\u001b[1;32m----> 2\u001b[1;33m     \u001b[0mfName\u001b[0m\u001b[1;33m,\u001b[0m \u001b[0mmaxItNoImprove\u001b[0m\u001b[1;33m,\u001b[0m \u001b[0mSizeMax\u001b[0m \u001b[1;33m=\u001b[0m \u001b[0mGetArguments\u001b[0m\u001b[1;33m(\u001b[0m\u001b[0msys\u001b[0m\u001b[1;33m.\u001b[0m\u001b[0margv\u001b[0m\u001b[1;33m)\u001b[0m\u001b[1;33m\u001b[0m\u001b[1;33m\u001b[0m\u001b[0m\n\u001b[0m\u001b[0;32m      3\u001b[0m     \u001b[0mUtility\u001b[0m\u001b[1;33m,\u001b[0m \u001b[0mA\u001b[0m\u001b[1;33m,\u001b[0m \u001b[0mRHS\u001b[0m\u001b[1;33m,\u001b[0m \u001b[0mrow\u001b[0m\u001b[1;33m,\u001b[0m \u001b[0mcol\u001b[0m  \u001b[1;33m=\u001b[0m \u001b[0mReadInstance\u001b[0m\u001b[1;33m(\u001b[0m\u001b[0mfName\u001b[0m\u001b[1;33m)\u001b[0m\u001b[1;33m\u001b[0m\u001b[1;33m\u001b[0m\u001b[0m\n\u001b[0;32m      4\u001b[0m     \u001b[0mmaxItNoImprove\u001b[0m \u001b[1;33m*=\u001b[0m \u001b[0mcol\u001b[0m \u001b[1;31m# % do numero de variaveis\u001b[0m\u001b[1;33m\u001b[0m\u001b[1;33m\u001b[0m\u001b[0m\n\u001b[0;32m      5\u001b[0m     \u001b[0mSizeMax\u001b[0m \u001b[1;33m*=\u001b[0m \u001b[0mcol\u001b[0m \u001b[1;31m# % do numero de variaveis\u001b[0m\u001b[1;33m\u001b[0m\u001b[1;33m\u001b[0m\u001b[0m\n",
      "\u001b[1;32m<ipython-input-12-408bfa78cf96>\u001b[0m in \u001b[0;36mGetArguments\u001b[1;34m(argv)\u001b[0m\n\u001b[0;32m     11\u001b[0m     \u001b[1;32melse\u001b[0m\u001b[1;33m:\u001b[0m\u001b[1;33m\u001b[0m\u001b[1;33m\u001b[0m\u001b[0m\n\u001b[0;32m     12\u001b[0m         \u001b[0mfName\u001b[0m \u001b[1;33m=\u001b[0m \u001b[0mparameters\u001b[0m\u001b[1;33m[\u001b[0m\u001b[1;36m1\u001b[0m\u001b[1;33m]\u001b[0m\u001b[1;33m\u001b[0m\u001b[1;33m\u001b[0m\u001b[0m\n\u001b[1;32m---> 13\u001b[1;33m         \u001b[0mmaxItNoImprove\u001b[0m \u001b[1;33m=\u001b[0m \u001b[0mfloat\u001b[0m\u001b[1;33m(\u001b[0m\u001b[0mparameters\u001b[0m\u001b[1;33m[\u001b[0m\u001b[1;36m3\u001b[0m\u001b[1;33m]\u001b[0m\u001b[1;33m)\u001b[0m\u001b[1;33m\u001b[0m\u001b[1;33m\u001b[0m\u001b[0m\n\u001b[0m\u001b[0;32m     14\u001b[0m         \u001b[0mSizeMax\u001b[0m \u001b[1;33m=\u001b[0m \u001b[0mfloat\u001b[0m\u001b[1;33m(\u001b[0m\u001b[0mparameters\u001b[0m\u001b[1;33m[\u001b[0m\u001b[1;36m5\u001b[0m\u001b[1;33m]\u001b[0m\u001b[1;33m)\u001b[0m\u001b[1;33m\u001b[0m\u001b[1;33m\u001b[0m\u001b[0m\n\u001b[0;32m     15\u001b[0m     \u001b[1;32mreturn\u001b[0m \u001b[0mfName\u001b[0m\u001b[1;33m,\u001b[0m \u001b[0mmaxItNoImprove\u001b[0m\u001b[1;33m,\u001b[0m \u001b[0mSizeMax\u001b[0m\u001b[1;33m\u001b[0m\u001b[1;33m\u001b[0m\u001b[0m\n",
      "\u001b[1;31mIndexError\u001b[0m: list index out of range"
     ]
    }
   ],
   "source": [
    "def main(): \n",
    "    fName, maxItNoImprove, SizeMax = GetArguments(sys.argv)\n",
    "    Utility, A, RHS, row, col  = ReadInstance(fName)  \n",
    "    maxItNoImprove *= col # % do numero de variaveis\n",
    "    SizeMax *= col # % do numero de variaveis\n",
    "    X0 = Greedy(A, RHS, Utility, row, col)\n",
    "    bestOF = - TabuSearch(X0, A, RHS, Utility, row, col, maxItNoImprove, SizeMax)\n",
    "    return bestOF\n",
    "\n",
    "if __name__ == \"__main__\":\n",
    "    print(main())"
   ]
  },
  {
   "cell_type": "markdown",
   "metadata": {
    "id": "HEkFq7_Kq2Pr"
   },
   "source": [
    "Vale lembrar que este código é feito especialmente para utilizar o IRACE, portanto é preciso exportá-lo para um arquivo .py em:\n",
    "\n",
    "\n",
    "\n",
    "* Arquivo > Fazer download > Fazer o download de .py\n",
    "\n",
    "Para a utilização do IRACE é recomendado a utilização de uma IDE como o VS Code:\n",
    "\n",
    "[Download](https://code.visualstudio.com/download)\n",
    "\n",
    "[Tutorial de como instalar o VS Code no Windows e como rodar codigo Python](https://www.youtube.com/watch?v=Z12w7PZWc2E)\n"
   ]
  },
  {
   "cell_type": "code",
   "execution_count": null,
   "metadata": {
    "id": "YXC7C9FbrDb5"
   },
   "outputs": [],
   "source": []
  }
 ],
 "metadata": {
  "colab": {
   "collapsed_sections": [],
   "name": "Untitled3.ipynb",
   "provenance": []
  },
  "kernelspec": {
   "display_name": "Python 3",
   "language": "python",
   "name": "python3"
  },
  "language_info": {
   "codemirror_mode": {
    "name": "ipython",
    "version": 3
   },
   "file_extension": ".py",
   "mimetype": "text/x-python",
   "name": "python",
   "nbconvert_exporter": "python",
   "pygments_lexer": "ipython3",
   "version": "3.8.8"
  }
 },
 "nbformat": 4,
 "nbformat_minor": 1
}
